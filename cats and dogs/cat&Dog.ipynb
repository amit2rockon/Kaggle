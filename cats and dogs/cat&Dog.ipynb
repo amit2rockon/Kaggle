{
 "cells": [
  {
   "cell_type": "code",
   "execution_count": 22,
   "metadata": {},
   "outputs": [],
   "source": [
    "import os \n",
    "import matplotlib.pyplot as plt\n",
    "from random import shuffle\n",
    "from keras.preprocessing.image import ImageDataGenerator, array_to_img, img_to_array, load_img\n",
    "from keras.models import Sequential\n",
    "from keras.layers import Conv2D, MaxPooling2D, Activation, Dropout, Flatten, Dense"
   ]
  },
  {
   "cell_type": "code",
   "execution_count": 23,
   "metadata": {
    "collapsed": true
   },
   "outputs": [],
   "source": [
    "all_images= os.listdir('data')\n",
    "shuffle(all_images)\n",
    "l = len(all_images)\n",
    "train = all_images[:int(0.80*l)]\n",
    "validation = all_images[int(0.80*l):int(0.90*l)]\n",
    "test = all_images[int(0.90*l):]"
   ]
  },
  {
   "cell_type": "code",
   "execution_count": null,
   "metadata": {},
   "outputs": [],
   "source": [
    "\n",
    "os.makedirs('data/train/cats')\n",
    "os.makedirs('data/train/dogs')\n",
    "os.makedirs('data/validation/cats')\n",
    "os.makedirs('data/validation/dogs')\n",
    "os.makedirs('data/test/cats')\n",
    "os.makedirs('data/test/dogs')\n",
    "\n",
    "for x in train:\n",
    "    if x.split('.')[0] == 'cat':\n",
    "        os.rename('data/'+x, 'data/train/cats/'+x)\n",
    "    else:\n",
    "        os.rename('data/'+x,'data/train/dogs/'+x)\n",
    "for x in validation:\n",
    "    if x.split('.')[0] == 'cat':\n",
    "        os.rename('data/'+x ,'data/validation/cats/'+x)\n",
    "    else:\n",
    "        os.rename('data/'+x ,'data/validation/dogs/'+x)\n",
    "for x in test:\n",
    "    if x.split('.')[0] == 'cat':\n",
    "        os.rename('data/'+x , 'data/test/cats/'+x)\n",
    "    else:\n",
    "        os.rename('data/'+x , 'data/test/dogs/'+x)\n",
    "        "
   ]
  },
  {
   "cell_type": "code",
   "execution_count": 4,
   "metadata": {},
   "outputs": [
    {
     "name": "stdout",
     "output_type": "stream",
     "text": [
      "Found 20000 images belonging to 2 classes.\n",
      "Found 2500 images belonging to 2 classes.\n"
     ]
    }
   ],
   "source": [
    "train_datagen = ImageDataGenerator(\n",
    "            rescale= 1./255,\n",
    "            shear_range=0.2,\n",
    "            zoom_range= 0.2,\n",
    "            horizontal_flip=True)\n",
    "\n",
    "test_datagen = ImageDataGenerator(rescale=1./255)\n",
    "\n",
    "train_generator      = train_datagen.flow_from_directory('data/train',target_size = (64,64),batch_size = 32,class_mode ='binary')\n",
    "\n",
    "validation_generator = test_datagen.flow_from_directory('data/validation',target_size = (64,64),batch_size = 32,class_mode ='binary')"
   ]
  },
  {
   "cell_type": "code",
   "execution_count": 5,
   "metadata": {},
   "outputs": [
    {
     "name": "stdout",
     "output_type": "stream",
     "text": [
      "WARNING:tensorflow:From /Users/amit/anaconda3/lib/python3.6/site-packages/keras/backend/tensorflow_backend.py:1255: calling reduce_prod (from tensorflow.python.ops.math_ops) with keep_dims is deprecated and will be removed in a future version.\n",
      "Instructions for updating:\n",
      "keep_dims is deprecated, use keepdims instead\n"
     ]
    }
   ],
   "source": [
    "model = Sequential()\n",
    "model.add(Conv2D(32,(3,3),input_shape=(64,64,3),activation='relu'))\n",
    "model.add(MaxPooling2D(pool_size=(2,2)))\n",
    "\n",
    "model.add(Conv2D(32,(3,3),activation='relu'))\n",
    "model.add(MaxPooling2D(pool_size=(2,2)))\n",
    "\n",
    "model.add(Conv2D(64,(3,3),activation = 'relu'))\n",
    "model.add(MaxPooling2D(pool_size=(2,2)))\n",
    "\n",
    "model.add(Flatten())\n",
    "model.add(Dense(units=64,activation='relu'))\n",
    "model.add(Dropout(0.5))\n",
    "model.add(Dense(units=1,activation='sigmoid'))\n"
   ]
  },
  {
   "cell_type": "code",
   "execution_count": 6,
   "metadata": {},
   "outputs": [
    {
     "name": "stdout",
     "output_type": "stream",
     "text": [
      "WARNING:tensorflow:From /Users/amit/anaconda3/lib/python3.6/site-packages/keras/backend/tensorflow_backend.py:1340: calling reduce_mean (from tensorflow.python.ops.math_ops) with keep_dims is deprecated and will be removed in a future version.\n",
      "Instructions for updating:\n",
      "keep_dims is deprecated, use keepdims instead\n"
     ]
    }
   ],
   "source": [
    "model.compile(loss='binary_crossentropy',optimizer='rmsprop',metrics=['accuracy'])\n"
   ]
  },
  {
   "cell_type": "code",
   "execution_count": 7,
   "metadata": {
    "scrolled": false
   },
   "outputs": [
    {
     "name": "stderr",
     "output_type": "stream",
     "text": [
      "/Users/amit/anaconda3/lib/python3.6/site-packages/ipykernel_launcher.py:5: UserWarning: The semantics of the Keras 2 argument `steps_per_epoch` is not the same as the Keras 1 argument `samples_per_epoch`. `steps_per_epoch` is the number of batches to draw from the generator at each epoch. Basically steps_per_epoch = samples_per_epoch/batch_size. Similarly `nb_val_samples`->`validation_steps` and `val_samples`->`steps` arguments have changed. Update your method calls accordingly.\n",
      "  \"\"\"\n",
      "/Users/amit/anaconda3/lib/python3.6/site-packages/ipykernel_launcher.py:5: UserWarning: Update your `fit_generator` call to the Keras 2 API: `fit_generator(<keras.pre..., validation_data=<keras.pre..., steps_per_epoch=625, epochs=10, validation_steps=800)`\n",
      "  \"\"\"\n"
     ]
    },
    {
     "name": "stdout",
     "output_type": "stream",
     "text": [
      "Epoch 1/10\n",
      "625/625 [==============================] - 380s 608ms/step - loss: 0.6481 - acc: 0.6184 - val_loss: 0.5868 - val_acc: 0.6814\n",
      "Epoch 2/10\n",
      "625/625 [==============================] - 336s 537ms/step - loss: 0.5541 - acc: 0.7212 - val_loss: 0.4942 - val_acc: 0.7579\n",
      "Epoch 3/10\n",
      "625/625 [==============================] - 361s 577ms/step - loss: 0.5066 - acc: 0.7559 - val_loss: 0.4528 - val_acc: 0.7821\n",
      "Epoch 4/10\n",
      "625/625 [==============================] - 426s 682ms/step - loss: 0.4793 - acc: 0.7762 - val_loss: 0.4569 - val_acc: 0.7832\n",
      "Epoch 5/10\n",
      "625/625 [==============================] - 382s 611ms/step - loss: 0.4560 - acc: 0.7912 - val_loss: 0.4034 - val_acc: 0.8117\n",
      "Epoch 6/10\n",
      "625/625 [==============================] - 472s 755ms/step - loss: 0.4456 - acc: 0.7976 - val_loss: 0.4388 - val_acc: 0.7929\n",
      "Epoch 7/10\n",
      "625/625 [==============================] - 501s 802ms/step - loss: 0.4340 - acc: 0.8066 - val_loss: 0.3915 - val_acc: 0.8209\n",
      "Epoch 8/10\n",
      "625/625 [==============================] - 475s 760ms/step - loss: 0.4282 - acc: 0.8107 - val_loss: 0.4026 - val_acc: 0.8093\n",
      "Epoch 9/10\n",
      "625/625 [==============================] - 363s 581ms/step - loss: 0.4247 - acc: 0.8101 - val_loss: 0.4284 - val_acc: 0.7925\n",
      "Epoch 10/10\n",
      "625/625 [==============================] - 399s 638ms/step - loss: 0.4175 - acc: 0.8163 - val_loss: 0.4055 - val_acc: 0.8139\n"
     ]
    }
   ],
   "source": [
    "model.fit_generator(train_generator,\n",
    "                   samples_per_epoch=20000,\n",
    "                   nb_epoch=10,\n",
    "                   validation_data=validation_generator,\n",
    "                   nb_val_samples=800)\n",
    "model.save_weights('first_try1.h5')\n"
   ]
  },
  {
   "cell_type": "code",
   "execution_count": null,
   "metadata": {
    "collapsed": true
   },
   "outputs": [],
   "source": []
  }
 ],
 "metadata": {
  "kernelspec": {
   "display_name": "Python 3",
   "language": "python",
   "name": "python3"
  },
  "language_info": {
   "codemirror_mode": {
    "name": "ipython",
    "version": 3
   },
   "file_extension": ".py",
   "mimetype": "text/x-python",
   "name": "python",
   "nbconvert_exporter": "python",
   "pygments_lexer": "ipython3",
   "version": "3.6.4"
  }
 },
 "nbformat": 4,
 "nbformat_minor": 2
}
